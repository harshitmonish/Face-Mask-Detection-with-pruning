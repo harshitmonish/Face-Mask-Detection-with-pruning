{
  "cells": [
    {
      "cell_type": "code",
      "execution_count": 1,
      "metadata": {
        "colab": {
          "base_uri": "https://localhost:8080/"
        },
        "id": "BhiE2DM4nASR",
        "outputId": "a6f6c4f9-9f83-4f5c-bc72-e5126e1b28a3"
      },
      "outputs": [
        {
          "output_type": "stream",
          "name": "stdout",
          "text": [
            "Mounted at /content/drive/\n"
          ]
        }
      ],
      "source": [
        "from google.colab import drive\n",
        "drive.mount('/content/drive/')\n"
      ]
    },
    {
      "cell_type": "code",
      "execution_count": 2,
      "metadata": {
        "id": "7S-mywi1nbci"
      },
      "outputs": [],
      "source": [
        "drive_dataset_path = \"/content/drive/MyDrive/MaskDetectionDataset/facemask_dataset/\""
      ]
    },
    {
      "cell_type": "code",
      "execution_count": 156,
      "metadata": {
        "id": "sTm8PKTGoBab"
      },
      "outputs": [],
      "source": [
        "# -*- coding: utf-8 -*-\n",
        "\"\"\"\n",
        "Created on Mon May  2 21:10:19 2022\n",
        "\n",
        "@author: harsh\n",
        "\"\"\"\n",
        "\n",
        "import numpy as np\n",
        "import pandas as pd\n",
        "import matplotlib.pyplot as plt\n",
        "import torch\n",
        "import torchvision\n",
        "import torch.nn as nn\n",
        "import torch.nn.functional as F\n",
        "import torch.utils.data as data\n",
        "from torch.utils.data import DataLoader\n",
        "import torchvision.datasets as datasets\n",
        "import torchvision.transforms as transforms\n",
        "import torch.optim as opt\n",
        "import tqdm\n",
        "\n",
        "# Global variables\n",
        "input_shape = 124\n",
        "batch_size = 64\n",
        "input_channels = 3\n",
        "learning_rate = 0.008\n",
        "device = torch.device(\"cuda\" if torch.cuda.is_available() else \"cpu\")\n",
        "num_epochs = 20\n",
        "num_classes = 2\n",
        "\n",
        "class FaceMaskClassifier2(nn.Module):\n",
        "    def __init__(self):\n",
        "        super(FaceMaskClassifier2, self).__init__()\n",
        "        self.conv1 = nn.Conv2d(in_channels=3, out_channels=256, kernel_size=5, stride=1, padding=2)\n",
        "        self.batch_norm1 = nn.BatchNorm2d(num_features=256)\n",
        "        self.drop = nn.Dropout2d(p=0.2)\n",
        "\n",
        "        self.conv2 = nn.Conv2d(in_channels=256, out_channels=128, kernel_size=3, stride=1, padding=1)\n",
        "        self.batch_norm2 = nn.BatchNorm2d(num_features=128)\n",
        "\n",
        "        self.conv3 = nn.Conv2d(in_channels=128, out_channels=64, kernel_size=3, stride=1, padding=1)\n",
        "        self.batch_norm3 = nn.BatchNorm2d(num_features=64)\n",
        "\n",
        "\n",
        "        self.lastcnn = nn.Conv2d(in_channels=64, out_channels=2, kernel_size=31, stride=1, padding=0)\n",
        "        self.maxpool = nn.MaxPool2d(kernel_size=2, stride=2)\n",
        "\n",
        "    def forward(self, x):\n",
        "\n",
        "        x = F.relu(self.conv1(x))\n",
        "        x = self.batch_norm1(x)\n",
        "        x = self.drop(x)\n",
        "\n",
        "        x = self.maxpool(x)\n",
        "\n",
        "        x = F.relu(self.conv2(x))\n",
        "        x = self.batch_norm2(x)\n",
        "        x = self.drop(x)\n",
        "\n",
        "\n",
        "        x = F.relu(self.conv3(x))\n",
        "        x = self.batch_norm3(x)\n",
        "        x = self.drop(x)\n",
        "    \n",
        "        x = self.maxpool(x)\n",
        "        x = self.lastcnn(x)\n",
        "\n",
        "        return x\n",
        "\n",
        "# load the dataset\n",
        "def load_dataset():\n",
        "    # defining data transformations\n",
        "    my_transform = transforms.Compose([\n",
        "         transforms.Resize((input_shape, input_shape)),\n",
        "         transforms.ColorJitter(brightness=0.4),\n",
        "         transforms.RandomRotation(degrees=45),\n",
        "         transforms.RandomHorizontalFlip(p=0.5),\n",
        "         transforms.RandomVerticalFlip(p=0.5),\n",
        "         transforms.RandomGrayscale(p=0.2),\n",
        "         transforms.ToTensor(),\n",
        "         transforms.Normalize(mean=0.0, std=1.0)\n",
        "    ])\n",
        "\n",
        "    # loading the data\n",
        "    dataset = datasets.ImageFolder(drive_dataset_path,transform=my_transform)\n",
        "\n",
        "    # splitting the data into train test and validation\n",
        "    data_len = len(dataset)\n",
        "    print(\"Length of the data is : \"+str(data_len))\n",
        "    train_set_size = int(data_len * 0.8)\n",
        "    valid_set_size = int(train_set_size * 0.1)+1\n",
        "    train_set_size2 = int(train_set_size * 0.9)\n",
        "    test_set_size = int((data_len - train_set_size))\n",
        "    print(f\" Training data size: {train_set_size2}\\n Validation data size: {valid_set_size} \\n Testing data size: {test_set_size}\\n\")\n",
        "    train_data, test_data = data.random_split(dataset, [train_set_size, test_set_size])\n",
        "    train_data, valid_data = data.random_split(train_data, [train_set_size2, valid_set_size])\n",
        "\n",
        "    # defining the data loaders\n",
        "    train_loader = DataLoader(train_data, batch_size=batch_size, num_workers=8)\n",
        "    valid_loader = DataLoader(valid_data, batch_size=batch_size, num_workers=4)\n",
        "    test_loader = DataLoader(test_data, batch_size=batch_size, num_workers=4)\n",
        "\n",
        "    img, l = next(iter(train_loader))\n",
        "    return train_loader, valid_loader, test_loader\n",
        "\n",
        "\n",
        "# Train model\n",
        "\n",
        "def train2(train_loader, valid_loader, model, criterion, optimizer):\n",
        "    print(\"Begin training.\")\n",
        "    for ep in range(num_epochs):\n",
        "        # TRAINING\n",
        "        train_epoch_loss = 0\n",
        "        train_epoch_acc = 0\n",
        "        model.train()\n",
        "        for X_train_batch, y_train_batch in train_loader:\n",
        "            X_train_batch, y_train_batch = X_train_batch.to(device), y_train_batch.to(device)\n",
        "            optimizer.zero_grad()\n",
        "            y_train_pred = model(X_train_batch).squeeze()\n",
        "            train_loss = criterion(y_train_pred, y_train_batch)\n",
        "            train_acc = binary_acc(y_train_pred, y_train_batch)\n",
        "            train_loss.backward()\n",
        "            optimizer.step()\n",
        "            train_epoch_loss += train_loss.item()\n",
        "            train_epoch_acc += train_acc.item()\n",
        "        # VALIDATION\n",
        "        with torch.no_grad():\n",
        "            model.eval()\n",
        "            val_epoch_loss = 0\n",
        "            val_epoch_acc = 0\n",
        "            for X_val_batch, y_val_batch in valid_loader:\n",
        "                X_val_batch, y_val_batch = X_val_batch.to(device), y_val_batch.to(device)\n",
        "                y_val_pred = model(X_val_batch).squeeze()\n",
        "                #y_val_pred = torch.unsqueeze(y_val_pred, 0)\n",
        "                val_loss = criterion(y_val_pred, y_val_batch)\n",
        "                val_acc = binary_acc(y_val_pred, y_val_batch)\n",
        "                val_epoch_loss += val_loss.item()\n",
        "                val_epoch_acc += val_acc.item()\n",
        "        loss_stats['train'].append(train_epoch_loss / len(train_loader))\n",
        "        loss_stats['val'].append(val_epoch_loss / len(valid_loader))\n",
        "        accuracy_stats['train'].append(train_epoch_acc / len(train_loader))\n",
        "        accuracy_stats['val'].append(val_epoch_acc / len(valid_loader))\n",
        "        print(\n",
        "            f'Epoch {ep + 0:02}: | Train Loss: {train_epoch_loss / len(train_loader):.5f} | Val Loss: {val_epoch_loss / len(valid_loader):.5f} | Train Acc: {train_epoch_acc / len(train_loader):.3f}| Val Acc: {val_epoch_acc / len(valid_loader):.3f}')\n",
        "\n",
        "def binary_acc(y_pred, y_test):\n",
        "    y_pred_tag = torch.log_softmax(y_pred, dim = 1)\n",
        "    _, y_pred_tags = torch.max(y_pred_tag, dim = 1)\n",
        "    correct_results_sum = (y_pred_tags == y_test).sum().float()\n",
        "    acc = correct_results_sum/y_test.shape[0]\n",
        "    acc = torch.round(acc * 100)\n",
        "    return acc\n",
        "accuracy_stats = {\n",
        "    'train': [],\n",
        "    \"val\": []\n",
        "}\n",
        "loss_stats = {\n",
        "    'train': [],\n",
        "    \"val\": []\n",
        "}\n",
        "\n",
        "def evaluate(loader, model, model_type=\"nn\"):\n",
        "    correct = 0\n",
        "    num_samples = 0\n",
        "    model.eval()\n",
        "\n",
        "    with torch.no_grad():\n",
        "        for x, y in loader:\n",
        "            x = x.to(device)\n",
        "            y = y.to(device)\n",
        "\n",
        "            if (model_type == \"nn\"):\n",
        "                x = x.reshape(x.shape[0], -1)\n",
        "\n",
        "            score = model(x)\n",
        "\n",
        "            y_pred_tag = torch.log_softmax(score, dim=1)\n",
        "            _, y_pred_tags = torch.max(y_pred_tag, dim=1)\n",
        "            #_, preds = score.max(1)\n",
        "            correct += (y_pred_tags == y).sum()\n",
        "            num_samples += y_pred_tag.shape[0]\n",
        "\n",
        "    num_samples = 1 if num_samples == 0 else num_samples\n",
        "    accuracy = 100 * (correct / num_samples)\n",
        "    return accuracy\n",
        "\n",
        "\n",
        "def main():\n",
        "    train_loader, valid_loader, test_loader = load_dataset()\n",
        "\n",
        "    # Initializing the model\n",
        "\n",
        "    model = FaceMaskClassifier2().to(device)\n",
        "\n",
        "    optimizer = opt.Adam(model.parameters(), lr=learning_rate)\n",
        "    criterion = nn.CrossEntropyLoss()\n",
        "    print(torch.cuda.is_available())\n",
        "    print(\"Model detials: \\n\")\n",
        "    print(model)\n",
        "\n",
        "    print(\"\\n Training The Model\")\n",
        "    train2(train_loader, valid_loader, model, criterion, optimizer)\n",
        "\n",
        "    return model\n",
        "\n",
        "\n",
        "\n",
        "\n"
      ]
    },
    {
      "cell_type": "code",
      "execution_count": 157,
      "metadata": {
        "colab": {
          "base_uri": "https://localhost:8080/"
        },
        "id": "vsAsUCGooZev",
        "outputId": "a45b713e-600a-4289-c177-456865c9ef05"
      },
      "outputs": [
        {
          "output_type": "stream",
          "name": "stdout",
          "text": [
            "Length of the data is : 20043\n",
            " Training data size: 14430\n",
            " Validation data size: 1604 \n",
            " Testing data size: 4009\n",
            "\n",
            "True\n",
            "Model detials: \n",
            "\n",
            "FaceMaskClassifier2(\n",
            "  (conv1): Conv2d(3, 256, kernel_size=(5, 5), stride=(1, 1), padding=(2, 2))\n",
            "  (batch_norm1): BatchNorm2d(256, eps=1e-05, momentum=0.1, affine=True, track_running_stats=True)\n",
            "  (drop): Dropout2d(p=0.2, inplace=False)\n",
            "  (conv2): Conv2d(256, 128, kernel_size=(3, 3), stride=(1, 1), padding=(1, 1))\n",
            "  (batch_norm2): BatchNorm2d(128, eps=1e-05, momentum=0.1, affine=True, track_running_stats=True)\n",
            "  (conv3): Conv2d(128, 64, kernel_size=(3, 3), stride=(1, 1), padding=(1, 1))\n",
            "  (batch_norm3): BatchNorm2d(64, eps=1e-05, momentum=0.1, affine=True, track_running_stats=True)\n",
            "  (lastcnn): Conv2d(64, 2, kernel_size=(31, 31), stride=(1, 1))\n",
            "  (maxpool): MaxPool2d(kernel_size=2, stride=2, padding=0, dilation=1, ceil_mode=False)\n",
            ")\n",
            "\n",
            " Training The Model\n",
            "Begin training.\n",
            "Epoch 00: | Train Loss: 9.89721 | Val Loss: 8.65768 | Train Acc: 80.283| Val Acc: 82.846\n",
            "Epoch 01: | Train Loss: 2.75614 | Val Loss: 0.99083 | Train Acc: 85.301| Val Acc: 86.538\n",
            "Epoch 02: | Train Loss: 0.73272 | Val Loss: 0.21114 | Train Acc: 87.208| Val Acc: 90.000\n",
            "Epoch 03: | Train Loss: 0.24077 | Val Loss: 0.18239 | Train Acc: 90.088| Val Acc: 91.269\n",
            "Epoch 04: | Train Loss: 0.22594 | Val Loss: 0.20666 | Train Acc: 90.673| Val Acc: 88.692\n",
            "Epoch 05: | Train Loss: 0.20330 | Val Loss: 0.14266 | Train Acc: 91.558| Val Acc: 94.154\n",
            "Epoch 06: | Train Loss: 0.19580 | Val Loss: 0.18008 | Train Acc: 91.686| Val Acc: 91.308\n",
            "Epoch 07: | Train Loss: 0.20581 | Val Loss: 0.15150 | Train Acc: 91.677| Val Acc: 93.500\n",
            "Epoch 08: | Train Loss: 0.17835 | Val Loss: 0.14475 | Train Acc: 92.934| Val Acc: 93.731\n",
            "Epoch 09: | Train Loss: 0.19379 | Val Loss: 0.16647 | Train Acc: 92.212| Val Acc: 93.269\n",
            "Epoch 10: | Train Loss: 0.17731 | Val Loss: 0.15411 | Train Acc: 93.102| Val Acc: 94.000\n",
            "Epoch 11: | Train Loss: 0.17172 | Val Loss: 0.13543 | Train Acc: 93.425| Val Acc: 94.538\n",
            "Epoch 12: | Train Loss: 0.16701 | Val Loss: 0.12223 | Train Acc: 93.704| Val Acc: 95.231\n",
            "Epoch 13: | Train Loss: 0.16640 | Val Loss: 0.08508 | Train Acc: 93.686| Val Acc: 96.538\n",
            "Epoch 14: | Train Loss: 0.16478 | Val Loss: 0.11783 | Train Acc: 93.730| Val Acc: 95.808\n",
            "Epoch 15: | Train Loss: 0.18215 | Val Loss: 0.10460 | Train Acc: 93.522| Val Acc: 95.808\n",
            "Epoch 16: | Train Loss: 0.16465 | Val Loss: 0.10712 | Train Acc: 93.951| Val Acc: 95.923\n",
            "Epoch 17: | Train Loss: 0.16619 | Val Loss: 0.12672 | Train Acc: 93.770| Val Acc: 95.885\n",
            "Epoch 18: | Train Loss: 0.17068 | Val Loss: 0.10283 | Train Acc: 93.947| Val Acc: 96.231\n",
            "Epoch 19: | Train Loss: 0.17211 | Val Loss: 0.09874 | Train Acc: 94.066| Val Acc: 96.462\n"
          ]
        }
      ],
      "source": [
        "model = main()"
      ]
    },
    {
      "cell_type": "markdown",
      "metadata": {
        "id": "NBwl_9FWjR3k"
      },
      "source": [
        "Save the Trained Model"
      ]
    },
    {
      "cell_type": "code",
      "execution_count": 158,
      "metadata": {
        "id": "x4b1WdFSpZqu"
      },
      "outputs": [],
      "source": [
        "model_path = \"/content/drive/MyDrive/MaskDetectionDataset/models/cnn_scratch.pt\"\n",
        "torch.save(model.state_dict(), model_path)"
      ]
    },
    {
      "cell_type": "code",
      "execution_count": 54,
      "metadata": {
        "id": "TDNL2MlvjQkO",
        "colab": {
          "base_uri": "https://localhost:8080/"
        },
        "outputId": "3d1a30e5-dfa3-489b-bf51-ef2b7f632a47"
      },
      "outputs": [
        {
          "output_type": "execute_result",
          "data": {
            "text/plain": [
              "<All keys matched successfully>"
            ]
          },
          "metadata": {},
          "execution_count": 54
        }
      ],
      "source": [
        "model1 = FaceMaskClassifier2()\n",
        "model1.load_state_dict(torch.load(model_path))"
      ]
    },
    {
      "cell_type": "code",
      "source": [
        "def get_model():\n",
        "  \"\"\"\n",
        "  loads the saved model \n",
        "  \"\"\"\n",
        "  model_path = \"/content/drive/MyDrive/MaskDetectionDataset/models/cnn_scratch.pt\"\n",
        "  model1 = FaceMaskClassifier2()\n",
        "  model1.load_state_dict(torch.load(model_path))\n",
        "  return model1\n",
        "\n"
      ],
      "metadata": {
        "id": "0iIAZXwBGiMG"
      },
      "execution_count": 57,
      "outputs": []
    },
    {
      "cell_type": "code",
      "source": [
        "from torch.nn.utils import prune\n",
        "import seaborn as sns\n",
        "class prune_model():\n",
        "  def __init__(self, loader, model_path, prune_type='l1_unstructured'):\n",
        "    self.loader = loader\n",
        "    self.prune_type = prune_type\n",
        "    \n",
        "\n",
        "  def get_model(self, model_path = \"/content/drive/MyDrive/MaskDetectionDataset/models/cnn_scratch.pt\"):\n",
        "    \"\"\"\n",
        "    loads the saved model \n",
        "    \"\"\"\n",
        "    #model_path = \"/content/drive/MyDrive/MaskDetectionDataset/models/cnn_scratch.pt\"\n",
        "    model1 = FaceMaskClassifier2()\n",
        "    model1.load_state_dict(torch.load(model_path))\n",
        "    self.model = model1\n",
        "    return model1\n",
        "\n",
        "  def get_model_modules(self, mdl):\n",
        "    layers = []\n",
        "\n",
        "    def unwrap_recur(modules):\n",
        "      for md in modules.children():\n",
        "        if isinstance(md, nn.Sequential):\n",
        "          unwrap_recur(md)\n",
        "        elif isinstance(md, nn.ModuleList):\n",
        "          for m in md:\n",
        "            unwrap_recur(m)\n",
        "        else:\n",
        "          layers.append(md)\n",
        "\n",
        "    unwrap_recur(mdl)\n",
        "\n",
        "    return nn.ModuleList(layers)\n",
        "\n",
        "  def prune_model_l1_unstructured(self, model, ly_type, ratio):\n",
        "    \"\"\"\n",
        "    Model pruning\n",
        "    \"\"\"\n",
        "    modules = get_model_modules(model)\n",
        "    for m in modules.children():\n",
        "      if isinstance(m, ly_type):\n",
        "        prune.l1_unstructured(m, 'weight', ratio)\n",
        "        prune.remove(m, 'weight')\n",
        "    return model\n",
        "\n",
        "  def prune_model_l1_structured(self, model, ly_type, ratio):\n",
        "    \"\"\"\n",
        "    Model pruning\n",
        "    \"\"\"\n",
        "    modules = get_model_modules(model)\n",
        "    for m in modules.children():\n",
        "      if isinstance(m, ly_type):\n",
        "        prune.ln_structured(m, 'weight', ratio, n=1, dim=1)\n",
        "        prune.remove(m, 'weight')\n",
        "    return model\n",
        "\n",
        "  def get_eval(self, model, loader):\n",
        "    criterion = nn.CrossEntropyLoss()\n",
        "    model.eval().to(device)\n",
        "    val_loss = []\n",
        "    val_epoch_loss = 0.0\n",
        "    val_epoch_acc = 0.0\n",
        "    with torch.no_grad():\n",
        "      for X_val_batch, y_val_batch in loader:\n",
        "        X_val_batch, y_val_batch = X_val_batch.to(device), y_val_batch.to(device)\n",
        "        #y_val_pred = model(X_val_batch).squeeze()\n",
        "        y_val_pred = model(X_val_batch).squeeze()\n",
        "        val_loss = criterion(y_val_pred, y_val_batch)\n",
        "        val_acc = binary_acc(y_val_pred, y_val_batch)\n",
        "        val_epoch_loss += val_loss.item()\n",
        "        val_epoch_acc += val_acc.item()\n",
        "\n",
        "    print(\"Accuracy: \"+str(val_epoch_acc / len(loader))+\" Loss : \" + str(val_epoch_loss / len(loader)))\n",
        "    return val_epoch_acc / len(loader), val_epoch_loss / len(loader)\n",
        "\n",
        "  def prune(self, model_, prune_fn, eval_fn):\n",
        "    losses = []\n",
        "    accuracy = []\n",
        "\n",
        "    print(\"Evaluating the model with 0 pruning\")\n",
        "    model = model_()\n",
        "    acc, loss = eval_fn(model, self.loader)\n",
        "    losses.append((0, loss))\n",
        "    accuracy.append((0, acc))\n",
        "\n",
        "    # Pruning \n",
        "    for i in range(1, 18):\n",
        "      ratio = i*0.05\n",
        "      print(f\"Evaluating model with {ratio} pruning\")\n",
        "      model = model_()\n",
        "      pruned_model = prune_fn(model, nn.Conv2d, ratio)\n",
        "      acc, loss = eval_fn(pruned_model, self.loader)\n",
        "      losses.append((ratio, loss))\n",
        "      accuracy.append((ratio, acc))\n",
        "    \n",
        "    return accuracy, losses\n",
        "  \n",
        "  def plot(self, acc, losses, title):\n",
        "    (pd.DataFrame(losses, columns=['sparsity', 'loss'])\n",
        "    .pipe(lambda df: df.assign(\n",
        "        perf=(df.loss - pd.Series([losses[0][1]] * len(df))) / losses[0][1] + 1\n",
        "    ))\n",
        "    .head(10)\n",
        "    .plot.line(x='sparsity', y='perf', figsize=(12, 8), title=title)\n",
        "    )\n",
        "    sns.despine()\n",
        "\n",
        "  def fit(self):\n",
        "    if self.prune_type == \"l1_unstructured\":\n",
        "      accs, losses = self.prune(self.get_model, self.prune_model_l1_unstructured, self.get_eval)\n",
        "      #self.plot(accs, loss, \"L1_Ustructured\")\n",
        "    else:\n",
        "      accs, losses = self.prune(self.get_model, self.prune_model_l1_structured, self.get_eval)\n",
        "      #self.plot(accs, loss, \"L1_structured\")\n",
        "    return accs, losses\n"
      ],
      "metadata": {
        "id": "F5lMDeVrDM5i"
      },
      "execution_count": 160,
      "outputs": []
    },
    {
      "cell_type": "code",
      "source": [
        "model_path = \"/content/drive/MyDrive/MaskDetectionDataset/models/cnn_scratch.pt\""
      ],
      "metadata": {
        "id": "rS8DBVVaDM2v"
      },
      "execution_count": 159,
      "outputs": []
    },
    {
      "cell_type": "markdown",
      "source": [
        "Unstructured Pruing"
      ],
      "metadata": {
        "id": "WCRXan2yYKRZ"
      }
    },
    {
      "cell_type": "code",
      "source": [
        "train_loader, valid_loader, test_loader = load_dataset()\n",
        "p = prune_model(test_loader, model_path)\n",
        "accuracy_unstructured, loss_unstructured = p.fit()\n"
      ],
      "metadata": {
        "colab": {
          "base_uri": "https://localhost:8080/"
        },
        "id": "drzXfYo1DMz8",
        "outputId": "65b59c07-1774-4601-c378-3137f0592c0b"
      },
      "execution_count": 161,
      "outputs": [
        {
          "output_type": "stream",
          "name": "stdout",
          "text": [
            "Length of the data is : 20043\n",
            " Training data size: 14430\n",
            " Validation data size: 1604 \n",
            " Testing data size: 4009\n",
            "\n",
            "Evaluating the model with 0 pruning\n",
            "Accuracy: 96.0 Loss : 0.1056804559119637\n",
            "Evaluating model with 0.05 pruning\n",
            "Accuracy: 96.2063492063492 Loss : 0.10618090594098681\n",
            "Evaluating model with 0.1 pruning\n",
            "Accuracy: 96.17460317460318 Loss : 0.10285414320727189\n",
            "Evaluating model with 0.15000000000000002 pruning\n",
            "Accuracy: 96.53968253968254 Loss : 0.10832761529655684\n",
            "Evaluating model with 0.2 pruning\n",
            "Accuracy: 96.42857142857143 Loss : 0.10299941637213268\n",
            "Evaluating model with 0.25 pruning\n",
            "Accuracy: 96.46031746031746 Loss : 0.10802976065684879\n",
            "Evaluating model with 0.30000000000000004 pruning\n",
            "Accuracy: 96.12698412698413 Loss : 0.1058433647193606\n",
            "Evaluating model with 0.35000000000000003 pruning\n",
            "Accuracy: 95.60317460317461 Loss : 0.12252467102001584\n",
            "Evaluating model with 0.4 pruning\n",
            "Accuracy: 94.57142857142857 Loss : 0.13663132441422296\n",
            "Evaluating model with 0.45 pruning\n",
            "Accuracy: 93.66666666666667 Loss : 0.14745051697606132\n",
            "Evaluating model with 0.5 pruning\n",
            "Accuracy: 91.4920634920635 Loss : 0.18552215503794806\n",
            "Evaluating model with 0.55 pruning\n",
            "Accuracy: 86.60317460317461 Loss : 0.2876960774735799\n",
            "Evaluating model with 0.6000000000000001 pruning\n",
            "Accuracy: 79.14285714285714 Loss : 0.506501387036036\n",
            "Evaluating model with 0.65 pruning\n",
            "Accuracy: 64.06349206349206 Loss : 0.8665415729795184\n",
            "Evaluating model with 0.7000000000000001 pruning\n",
            "Accuracy: 52.476190476190474 Loss : 1.074961595118992\n",
            "Evaluating model with 0.75 pruning\n",
            "Accuracy: 48.888888888888886 Loss : 1.389084311704787\n",
            "Evaluating model with 0.8 pruning\n",
            "Accuracy: 48.3968253968254 Loss : 1.407424525609092\n",
            "Evaluating model with 0.8500000000000001 pruning\n",
            "Accuracy: 48.26984126984127 Loss : 1.4056929330977181\n"
          ]
        }
      ]
    },
    {
      "cell_type": "markdown",
      "source": [
        "Structured Pruning"
      ],
      "metadata": {
        "id": "4UVBN4HIYOum"
      }
    },
    {
      "cell_type": "code",
      "source": [
        "train_loader, valid_loader, test_loader = load_dataset()\n",
        "p = prune_model(test_loader, model_path, \"l1_structured\")\n",
        "accuracy_structured, loss_structured = p.fit()"
      ],
      "metadata": {
        "colab": {
          "base_uri": "https://localhost:8080/"
        },
        "id": "cmDj2BZPpZQY",
        "outputId": "dd5acd9b-0f6a-4674-845e-5812020defd0"
      },
      "execution_count": 162,
      "outputs": [
        {
          "output_type": "stream",
          "name": "stdout",
          "text": [
            "Length of the data is : 20043\n",
            " Training data size: 14430\n",
            " Validation data size: 1604 \n",
            " Testing data size: 4009\n",
            "\n",
            "Evaluating the model with 0 pruning\n",
            "Accuracy: 96.0952380952381 Loss : 0.10535446761382951\n",
            "Evaluating model with 0.05 pruning\n",
            "Accuracy: 95.9047619047619 Loss : 0.11264772550572479\n",
            "Evaluating model with 0.1 pruning\n",
            "Accuracy: 96.42857142857143 Loss : 0.10423706158522576\n",
            "Evaluating model with 0.15000000000000002 pruning\n",
            "Accuracy: 96.12698412698413 Loss : 0.10526635784596677\n",
            "Evaluating model with 0.2 pruning\n",
            "Accuracy: 48.96825396825397 Loss : 2.2405332705331227\n",
            "Evaluating model with 0.25 pruning\n",
            "Accuracy: 48.93650793650794 Loss : 2.1813234753078885\n",
            "Evaluating model with 0.30000000000000004 pruning\n",
            "Accuracy: 48.96825396825397 Loss : 2.1805886370795116\n",
            "Evaluating model with 0.35000000000000003 pruning\n",
            "Accuracy: 48.95238095238095 Loss : 1.8986615377759177\n",
            "Evaluating model with 0.4 pruning\n",
            "Accuracy: 48.95238095238095 Loss : 1.7303323897104415\n",
            "Evaluating model with 0.45 pruning\n",
            "Accuracy: 48.96825396825397 Loss : 1.6239560956046695\n",
            "Evaluating model with 0.5 pruning\n",
            "Accuracy: 49.26984126984127 Loss : 3.0384521295153903\n",
            "Evaluating model with 0.55 pruning\n",
            "Accuracy: 48.888888888888886 Loss : 2.9128776902244207\n",
            "Evaluating model with 0.6000000000000001 pruning\n",
            "Accuracy: 49.46031746031746 Loss : 2.0720464445295788\n",
            "Evaluating model with 0.65 pruning\n",
            "Accuracy: 50.26984126984127 Loss : 1.9510044956964159\n",
            "Evaluating model with 0.7000000000000001 pruning\n",
            "Accuracy: 48.96825396825397 Loss : 2.073811198037768\n",
            "Evaluating model with 0.75 pruning\n",
            "Accuracy: 48.93650793650794 Loss : 1.7302807891179646\n",
            "Evaluating model with 0.8 pruning\n",
            "Accuracy: 54.12698412698413 Loss : 0.6841793665810237\n",
            "Evaluating model with 0.8500000000000001 pruning\n",
            "Accuracy: 51.06349206349206 Loss : 0.7099335335549855\n"
          ]
        }
      ]
    },
    {
      "cell_type": "markdown",
      "source": [
        "Plotting results Loss"
      ],
      "metadata": {
        "id": "XUr66-Rho2z6"
      }
    },
    {
      "cell_type": "code",
      "source": [
        "ratio = []\n",
        "losses_un = []\n",
        "losses_st = []\n",
        "for i in loss_unstructured:\n",
        "  r, ls = i[0], i[1]\n",
        "  ratio.append(float(\"{:.2f}\".format(r)))\n",
        "  losses_un.append(ls)\n",
        "\n",
        "for i in loss_structured:\n",
        "  r, ls = i[0], i[1]\n",
        "  losses_st.append(ls)\n",
        "\n",
        "fig1 =  plt.figure(figsize=(15, 15))\n",
        "plt.clf()\n",
        "plt.ylim(0,5)\n",
        "plt.subplot(211)\n",
        "plt.title(\"Test loss \")\n",
        "plt.plot(losses_st, 'g-')\n",
        "plt.plot(losses_un, 'b-')\n",
        "default_x_ticks = range(len(ratio))\n",
        "#plt.plot(default_x_ticks, y)\n",
        "plt.xticks(default_x_ticks, ratio)\n",
        "\n",
        "plt.ylabel('Loss')\n",
        "plt.xlabel('Sparsity')\n",
        "plt.legend(['Structured','UnStructured'], loc='upper right')\n",
        "plt.show() "
      ],
      "metadata": {
        "colab": {
          "base_uri": "https://localhost:8080/",
          "height": 449
        },
        "id": "r9rDrEWZYTRu",
        "outputId": "52585902-257b-4758-d0dc-bcfe0cb70b4d"
      },
      "execution_count": 171,
      "outputs": [
        {
          "output_type": "display_data",
          "data": {
            "text/plain": [
              "<Figure size 1080x1080 with 1 Axes>"
            ],
            "image/png": "[encoded data removed]"
          },
          "metadata": {
            "needs_background": "light"
          }
        }
      ]
    },
    {
      "cell_type": "code",
      "source": [
        "ratio = []\n",
        "acc_uns = []\n",
        "acc_str = []\n",
        "\n",
        "for i in accuracy_unstructured:\n",
        "  r, ac = i[0], i[1]\n",
        "  ratio.append(float(\"{:.2f}\".format(r)))\n",
        "  acc_uns.append(ac)\n",
        "\n",
        "for i in accuracy_structured:\n",
        "  r, ac = i[0], i[1]\n",
        "  acc_str.append(ac)\n",
        "\n",
        "fig1 =  plt.figure(figsize=(15, 15))\n",
        "plt.clf()\n",
        "plt.ylim(0,5)\n",
        "plt.subplot(211)\n",
        "plt.title(\"Test Accuray \")\n",
        "plt.plot(acc_str, 'b-')\n",
        "plt.plot(acc_uns, 'g-')\n",
        "default_x_ticks = range(len(ratio))\n",
        "#plt.plot(default_x_ticks, y)\n",
        "plt.xticks(default_x_ticks, ratio)\n",
        "\n",
        "plt.ylabel('Accuracy')\n",
        "plt.xlabel('Sparsity')\n",
        "plt.legend(['Structured', 'UnStructured'], loc='upper right')\n",
        "plt.show() "
      ],
      "metadata": {
        "colab": {
          "base_uri": "https://localhost:8080/",
          "height": 449
        },
        "id": "jGZaEhgzoXBr",
        "outputId": "89fd1559-9888-4dcf-a451-5fd6687137e1"
      },
      "execution_count": 172,
      "outputs": [
        {
          "output_type": "display_data",
          "data": {
            "text/plain": [
              "<Figure size 1080x1080 with 1 Axes>"
            ],
            "image/png": "[encoded data removed]"
          },
          "metadata": {
            "needs_background": "light"
          }
        }
      ]
    },
    {
      "cell_type": "code",
      "source": [
        ""
      ],
      "metadata": {
        "id": "gswII4VwYTKo"
      },
      "execution_count": null,
      "outputs": []
    }
  ],
  "metadata": {
    "accelerator": "GPU",
    "colab": {
      "background_execution": "on",
      "machine_shape": "hm",
      "name": "FaceMaskPruning.ipynb",
      "provenance": [],
      "collapsed_sections": []
    },
    "kernelspec": {
      "display_name": "Python 3",
      "name": "python3"
    },
    "language_info": {
      "name": "python"
    }
  },
  "nbformat": 4,
  "nbformat_minor": 0
}