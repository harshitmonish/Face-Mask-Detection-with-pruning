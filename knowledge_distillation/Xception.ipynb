{
  "nbformat": 4,
  "nbformat_minor": 0,
  "metadata": {
    "colab": {
      "name": "Xception.ipynb",
      "provenance": [],
      "collapsed_sections": []
    },
    "kernelspec": {
      "name": "python3",
      "display_name": "Python 3"
    },
    "language_info": {
      "name": "python"
    }
  },
  "cells": [
    {
      "cell_type": "code",
      "execution_count": null,
      "metadata": {
        "id": "vXUBWw76jCfK"
      },
      "outputs": [],
      "source": [
        ""
      ]
    },
    {
      "cell_type": "code",
      "source": [
        "from google.colab import drive\n",
        "drive.mount('/content/drive')"
      ],
      "metadata": {
        "colab": {
          "base_uri": "https://localhost:8080/"
        },
        "id": "bIcekQe4y7pS",
        "outputId": "3678f8a8-229e-4480-8a1f-6ca1d89d1a31"
      },
      "execution_count": null,
      "outputs": [
        {
          "output_type": "stream",
          "name": "stdout",
          "text": [
            "Mounted at /content/drive\n"
          ]
        }
      ]
    },
    {
      "cell_type": "code",
      "source": [
        "import tensorflow as tf\n",
        "from tensorflow import keras\n",
        "from tensorflow.keras import layers\n",
        "import numpy as np"
      ],
      "metadata": {
        "id": "MbyCe25_j7hQ"
      },
      "execution_count": null,
      "outputs": []
    },
    {
      "cell_type": "code",
      "source": [
        "import zipfile\n",
        "import shutil\n",
        "\n",
        "shutil.copy(\"/content/drive/MyDrive/DL/Dataset_train.zip\",\"/content/Dataset_train.zip\")\n",
        "shutil.copy(\"/content/drive/MyDrive/DL/Dataset_test.zip\",\"/content/Dataset_test.zip\")\n",
        "\n",
        "zip_path = \"/content/Dataset_train.zip\"\n",
        "with zipfile.ZipFile(zip_path,\"r\") as zip_ref:\n",
        "  zip_ref.extractall(\"./Dataset/\")\n",
        "\n",
        "import zipfile\n",
        "zip_path = \"/content/Dataset_test.zip\"\n",
        "with zipfile.ZipFile(zip_path,\"r\") as zip_ref:\n",
        "  zip_ref.extractall(\"./Dataset_test/\")\n",
        "\n",
        "\n",
        "image_size = (1024, 1024)\n",
        "batch_size = 64\n",
        "IMG_SIZE =256\n",
        "\n",
        "\n",
        "resize_and_rescale = tf.keras.Sequential([\n",
        "  layers.Resizing(IMG_SIZE, IMG_SIZE),\n",
        "  layers.Rescaling(1./255)\n",
        "])\n",
        "\n",
        "\n",
        "\n",
        "normalization_layer = tf.keras.layers.Rescaling(1./255)\n",
        "resizing_layer = tf.keras.layers.Resizing(IMG_SIZE, IMG_SIZE)\n",
        "flip_layer = tf.keras.layers.RandomRotation(0.1)\n",
        "AUTOTUNE = tf.data.AUTOTUNE\n",
        "\n",
        "train_ds = tf.keras.preprocessing.image_dataset_from_directory(\n",
        "    \"/content/Dataset/\",\n",
        "    validation_split=0.2,\n",
        "    subset=\"training\",\n",
        "    seed=1337,\n",
        "    image_size=image_size,\n",
        "    batch_size=batch_size,\n",
        ")\n",
        "train_ds = train_ds.map(lambda x, y: (normalization_layer(x), y))\n",
        "train_ds = train_ds.map(lambda x, y: (resizing_layer(x), y))\n",
        "train_ds = train_ds.map(lambda x, y: (flip_layer(x), y))\n",
        "\n",
        "\n",
        "val_ds = tf.keras.preprocessing.image_dataset_from_directory(\n",
        "    \"/content/Dataset/\",\n",
        "    validation_split=0.2,\n",
        "    subset=\"validation\",\n",
        "    seed=1337,\n",
        "    image_size=image_size,\n",
        "    batch_size=batch_size,\n",
        ")\n",
        "\n",
        "val_ds = val_ds.map(lambda x, y: (normalization_layer(x), y))\n",
        "val_ds = val_ds.map(lambda x, y: (resizing_layer(x), y))\n",
        "\n",
        "\n",
        "test_ds = tf.keras.preprocessing.image_dataset_from_directory(\n",
        "    \"/content/Dataset_test/\",\n",
        "    image_size=image_size,\n",
        "    batch_size=batch_size,\n",
        ")\n",
        "\n",
        "\n",
        "test_ds = test_ds.map(lambda x, y: (normalization_layer(x), y))\n",
        "test_ds = test_ds.map(lambda x, y: (resizing_layer(x), y))\n",
        "\n"
      ],
      "metadata": {
        "colab": {
          "base_uri": "https://localhost:8080/",
          "height": 35
        },
        "id": "Vs-2GQGozQ0f",
        "outputId": "e9914fa1-be3d-4f6d-f178-adef3c518069"
      },
      "execution_count": null,
      "outputs": [
        {
          "output_type": "execute_result",
          "data": {
            "text/plain": [
              "'/content/Dataset_test.zip'"
            ],
            "application/vnd.google.colaboratory.intrinsic+json": {
              "type": "string"
            }
          },
          "metadata": {},
          "execution_count": 3
        }
      ]
    },
    {
      "cell_type": "code",
      "source": [
        "from tensorflow.keras.models import Model\n",
        "\n",
        "\n",
        "import keras.backend as K\n",
        "# def get_f1(y_true, y_pred): #taken from old keras source code\n",
        "#     true_positives = K.sum(K.round(K.clip(y_true * y_pred, 0, 1)))\n",
        "#     possible_positives = K.sum(K.round(K.clip(y_true, 0, 1)))\n",
        "#     predicted_positives = K.sum(K.round(K.clip(y_pred, 0, 1)))\n",
        "#     precision = true_positives / (predicted_positives + K.epsilon())\n",
        "#     recall = true_positives / (possible_positives + K.epsilon())\n",
        "#     f1_val = 2*(precision*recall)/(precision+recall+K.epsilon())\n",
        "#     return f1_val\n",
        "early_stopping_cb = keras.callbacks.EarlyStopping(monitor=\"val_accuracy\", patience=3)\n",
        "\n",
        "base_model = tf.keras.applications.Xception(\n",
        "    include_top=False,\n",
        "    weights=\"imagenet\",\n",
        "    input_shape=(256,256,3),\n",
        "    pooling=None,\n",
        "    classes=4,\n",
        "    classifier_activation=\"softmax\",\n",
        ")"
      ],
      "metadata": {
        "id": "vnSuS5I6zQ3M",
        "colab": {
          "base_uri": "https://localhost:8080/"
        },
        "outputId": "080fe7c0-afc1-4fc4-ddde-3b95e9f3aa2a"
      },
      "execution_count": null,
      "outputs": [
        {
          "output_type": "stream",
          "name": "stdout",
          "text": [
            "Downloading data from https://storage.googleapis.com/tensorflow/keras-applications/xception/xception_weights_tf_dim_ordering_tf_kernels_notop.h5\n",
            "83689472/83683744 [==============================] - 4s 0us/step\n",
            "83697664/83683744 [==============================] - 4s 0us/step\n"
          ]
        }
      ]
    },
    {
      "cell_type": "code",
      "source": [
        "callbacks = [\n",
        "    keras.callbacks.ModelCheckpoint(\"/content/drive/MyDrive/DL/xception_final/save_at_{epoch}.h5\"),early_stopping_cb\n",
        "]\n",
        "epochs =20\n",
        "model.compile(\n",
        "    optimizer=keras.optimizers.Adam(1e-6),\n",
        "    loss=\"sparse_categorical_crossentropy\",\n",
        "    metrics=[\"accuracy\"],\n",
        ")\n",
        "model.fit(\n",
        "    train_ds, epochs=epochs, callbacks=callbacks, validation_data=val_ds,\n",
        ")"
      ],
      "metadata": {
        "colab": {
          "base_uri": "https://localhost:8080/"
        },
        "id": "JUytnqig1bO-",
        "outputId": "688359a9-87cb-4bb7-e172-e4c0238d67c7"
      },
      "execution_count": null,
      "outputs": [
        {
          "output_type": "stream",
          "name": "stdout",
          "text": [
            "Epoch 1/20\n",
            "607/607 [==============================] - 525s 838ms/step - loss: 1.0942 - accuracy: 0.6926 - val_loss: 0.7107 - val_accuracy: 0.8955\n",
            "Epoch 2/20\n",
            "607/607 [==============================] - 501s 824ms/step - loss: 0.5230 - accuracy: 0.9025 - val_loss: 0.2986 - val_accuracy: 0.9198\n",
            "Epoch 3/20\n",
            "607/607 [==============================] - 500s 823ms/step - loss: 0.2570 - accuracy: 0.9350 - val_loss: 0.1687 - val_accuracy: 0.9567\n",
            "Epoch 4/20\n",
            "607/607 [==============================] - 502s 825ms/step - loss: 0.1513 - accuracy: 0.9642 - val_loss: 0.1003 - val_accuracy: 0.9850\n",
            "Epoch 5/20\n",
            "607/607 [==============================] - 500s 822ms/step - loss: 0.0958 - accuracy: 0.9822 - val_loss: 0.0608 - val_accuracy: 0.9915\n",
            "Epoch 6/20\n",
            "607/607 [==============================] - 500s 822ms/step - loss: 0.0653 - accuracy: 0.9879 - val_loss: 0.0399 - val_accuracy: 0.9940\n",
            "Epoch 7/20\n",
            "607/607 [==============================] - 501s 823ms/step - loss: 0.0465 - accuracy: 0.9906 - val_loss: 0.0283 - val_accuracy: 0.9961\n",
            "Epoch 8/20\n",
            "607/607 [==============================] - 501s 824ms/step - loss: 0.0372 - accuracy: 0.9921 - val_loss: 0.0213 - val_accuracy: 0.9965\n",
            "Epoch 9/20\n",
            "607/607 [==============================] - 502s 824ms/step - loss: 0.0303 - accuracy: 0.9936 - val_loss: 0.0169 - val_accuracy: 0.9973\n",
            "Epoch 10/20\n",
            "607/607 [==============================] - 503s 826ms/step - loss: 0.0247 - accuracy: 0.9946 - val_loss: 0.0138 - val_accuracy: 0.9975\n",
            "Epoch 11/20\n",
            "607/607 [==============================] - 504s 828ms/step - loss: 0.0210 - accuracy: 0.9954 - val_loss: 0.0119 - val_accuracy: 0.9984\n",
            "Epoch 12/20\n",
            "607/607 [==============================] - 503s 827ms/step - loss: 0.0177 - accuracy: 0.9960 - val_loss: 0.0103 - val_accuracy: 0.9986\n",
            "Epoch 13/20\n",
            "607/607 [==============================] - 504s 828ms/step - loss: 0.0141 - accuracy: 0.9971 - val_loss: 0.0091 - val_accuracy: 0.9988\n",
            "Epoch 14/20\n",
            "607/607 [==============================] - 507s 833ms/step - loss: 0.0147 - accuracy: 0.9965 - val_loss: 0.0082 - val_accuracy: 0.9988\n",
            "Epoch 15/20\n",
            "607/607 [==============================] - 505s 829ms/step - loss: 0.0117 - accuracy: 0.9977 - val_loss: 0.0075 - val_accuracy: 0.9988\n",
            "Epoch 16/20\n",
            "607/607 [==============================] - 505s 830ms/step - loss: 0.0100 - accuracy: 0.9976 - val_loss: 0.0069 - val_accuracy: 0.9990\n",
            "Epoch 17/20\n",
            "607/607 [==============================] - 504s 828ms/step - loss: 0.0090 - accuracy: 0.9982 - val_loss: 0.0063 - val_accuracy: 0.9990\n",
            "Epoch 18/20\n",
            "607/607 [==============================] - 505s 830ms/step - loss: 0.0088 - accuracy: 0.9978 - val_loss: 0.0059 - val_accuracy: 0.9994\n",
            "Epoch 19/20\n",
            "607/607 [==============================] - 503s 827ms/step - loss: 0.0074 - accuracy: 0.9980 - val_loss: 0.0057 - val_accuracy: 0.9992\n",
            "Epoch 20/20\n",
            "607/607 [==============================] - 505s 829ms/step - loss: 0.0074 - accuracy: 0.9982 - val_loss: 0.0055 - val_accuracy: 0.9992\n"
          ]
        },
        {
          "output_type": "execute_result",
          "data": {
            "text/plain": [
              "<keras.callbacks.History at 0x7fd900263b10>"
            ]
          },
          "metadata": {},
          "execution_count": 10
        }
      ]
    }
  ]
}